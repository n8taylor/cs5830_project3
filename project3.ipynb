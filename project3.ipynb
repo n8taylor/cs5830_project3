{
 "cells": [
  {
   "cell_type": "markdown",
   "id": "1da68931",
   "metadata": {},
   "source": [
    "# Project 3"
   ]
  },
  {
   "cell_type": "code",
   "execution_count": null,
   "id": "a2da7154",
   "metadata": {},
   "outputs": [],
   "source": [
    "import pokebase as pb\n",
    "pb.cache.API_CACHE\n",
    "\n",
    "import json\n",
    "import requests\n",
    "import pandas as pd\n",
    "import matplotlib.pyplot as plt\n",
    "import seaborn as sns\n",
    "from scipy import stats\n",
    "\n",
    "from scipy.stats import pearsonr"
   ]
  },
  {
   "cell_type": "markdown",
   "id": "99a96354",
   "metadata": {},
   "source": [
    "## Gathering all Generation 1 Pokemon from [PokeAPI](https://pokeapi.co/)\n",
    "\n",
    "**Note: pinging PokeAPI for each pokemon object in generation 1 is a slow process. Expect this to take anywhere around 15-30 sec.*"
   ]
  },
  {
   "cell_type": "code",
   "execution_count": null,
   "id": "5eff95c5",
   "metadata": {},
   "outputs": [],
   "source": [
    "gen1 = requests.get('https://pokeapi.co/api/v2/generation/1')\n",
    "gen1 = json.loads(gen1.content)\n",
    "\n",
    "gen1Moves = gen1['moves']   # a list of moves included in the gen 1 games\n",
    "gen1Types = gen1['types']   # a list of valid pokemon types in the gen 1\n",
    "gen1Species = gen1['pokemon_species']   # a list of pokemon species introduced in gen 1\n",
    "\n",
    "# Get pokemon objects for each of the pokemon from gen 1\n",
    "gen1Pokemon = []\n",
    "for species in gen1Species:\n",
    "    pokemon = requests.get(f\"https://pokeapi.co/api/v2/pokemon/{species['name']}\")\n",
    "    pokemon = json.loads(pokemon.content)\n",
    "    gen1Pokemon.append(pokemon)"
   ]
  },
  {
   "cell_type": "markdown",
   "id": "0556e30c",
   "metadata": {},
   "source": [
    "### Gather remaining Generation 2-9 Pokemon (Optional - To get full dataset for some analyses\n",
    "This takes about 8 minutes. Not needed for most of the analysis but useful for some of our graphs and analyses."
   ]
  },
  {
   "cell_type": "code",
   "execution_count": null,
   "id": "4038122a",
   "metadata": {},
   "outputs": [],
   "source": [
    "# # Optionally get the rest of the generations (takes about 8 minutes)\n",
    "# for i in range(2, 10): \n",
    "#     gen = requests.get(f'https://pokeapi.co/api/v2/generation/{i}')\n",
    "#     if gen.status_code == 200:\n",
    "#         try:\n",
    "#             gen = json.loads(gen.content)\n",
    "#             genSpecies = gen['pokemon_species']\n",
    "#             genPokemon = []\n",
    "#             for species in genSpecies:\n",
    "#                 pokemon = requests.get(f\"https://pokeapi.co/api/v2/pokemon/{species['name']}\")\n",
    "#                 # Some Pokemon throw errors, probably because they have unique naming in the API\n",
    "#                 if pokemon.status_code == 200:\n",
    "#                     try:\n",
    "#                         pokemon = json.loads(pokemon.content)\n",
    "#                         genPokemon.append(pokemon)\n",
    "#                     except json.JSONDecodeError:\n",
    "#                         print(f\"Error decoding JSON for pokemon: {species['name']}\")\n",
    "#                 else:\n",
    "#                     print(f\"Error retrieving pokemon: {species['name']}\")\n",
    "#             # add to gen1Pokemon list\n",
    "#             gen1Pokemon += genPokemon\n",
    "#         except json.JSONDecodeError:\n",
    "#             print(f\"Error decoding JSON for generation {i}\")\n",
    "#     else:\n",
    "#         print(f\"Error retrieving generation {i}\")"
   ]
  },
  {
   "cell_type": "markdown",
   "id": "36677f5a",
   "metadata": {},
   "source": [
    "## Converting Pokemon JSON data into usable dataframes"
   ]
  },
  {
   "cell_type": "code",
   "execution_count": null,
   "id": "78cfa853",
   "metadata": {},
   "outputs": [],
   "source": [
    "# Create a dataframe for moves included in the gen 1 games\n",
    "# (to be used in validating moves listed for each pokemon)\n",
    "movesDF = pd.DataFrame(gen1Moves)\n",
    "movesDF = movesDF[['name']]\n",
    "movesDF.columns = ['move']\n",
    "movesDF"
   ]
  },
  {
   "cell_type": "markdown",
   "id": "2b829589",
   "metadata": {},
   "source": [
    "**Note: pinging PokeAPI for each move object is a slow process. Expect this to take anywhere around 15-30 sec.*"
   ]
  },
  {
   "cell_type": "code",
   "execution_count": null,
   "id": "08c62101",
   "metadata": {},
   "outputs": [],
   "source": [
    "# Add more info about each move\n",
    "for index, row in movesDF.iterrows():\n",
    "    moveDetails = requests.get(f'https://pokeapi.co/api/v2/move/{row[\"move\"]}')\n",
    "    moveDetails = json.loads(moveDetails.content)\n",
    "    movesDF.at[index, 'power'] = moveDetails['power']\n",
    "    movesDF.at[index, 'damage_class'] = moveDetails['damage_class']['name']\n",
    "    movesDF.at[index, 'type'] = moveDetails['type']['name']\n",
    "\n",
    "movesDF"
   ]
  },
  {
   "cell_type": "code",
   "execution_count": null,
   "id": "b2522929",
   "metadata": {},
   "outputs": [],
   "source": [
    "# Create a dataframe of each pokemon and its various stats\n",
    "pokemonDF = {\n",
    "    'name': [],\n",
    "    'generation': [],   # the generation the pokemon was introduced in\n",
    "    'base_experience': [],  # experience gained from defeating this pokemon\n",
    "    'height': [],   # in decimetres\n",
    "    'weight': [],   # in hectograms\n",
    "    'abilities': [],    # total number of abilities\n",
    "    # 'moves': [],    # total number of moves learnable by this pokemon\n",
    "    'type': [],\n",
    "    'type-slot': [],    # denotes whether the recorded type is the pokemon's primary or secondary type\n",
    "    # All stat values represent base stats\n",
    "    'hp': [],\n",
    "    'attack': [],\n",
    "    'defense': [],\n",
    "    'special-attack': [],\n",
    "    'special-defense': [],\n",
    "    'speed': [],\n",
    "}\n",
    "\n",
    "pokemonMovesDF = {  # all gen 1 moves learnable by pokemon in gen 1\n",
    "    'name': [],\n",
    "    'move': [],\n",
    "    'level_learned_at': [],\n",
    "}\n",
    "\n",
    "for pokemon in gen1Pokemon:\n",
    "    # Typings for some pokemon have changed since gen 1\n",
    "    if len(pokemon['past_types']) > 0:\n",
    "        typeList = pokemon['past_types'][0]['types']\n",
    "    else:\n",
    "        typeList = pokemon['types']\n",
    "\n",
    "    for type in typeList:\n",
    "        pokemonDF['type-slot'].append(type['slot'])\n",
    "        pokemonDF['type'].append(type['type']['name'])\n",
    "\n",
    "        pokemonDF['name'].append(pokemon['name'])\n",
    "        thresholds = [152, 252, 387, 494, 650, 722, 810, 906] # the highest id of each generation\n",
    "        for i, threshold in enumerate(thresholds, 1): \n",
    "            if pokemon['id'] < threshold: # place pokemon into generation based on id\n",
    "                pokemonDF['generation'].append(i)\n",
    "                break\n",
    "        else:\n",
    "            pokemonDF['generation'].append(len(thresholds) + 1)\n",
    "        pokemonDF['base_experience'].append(pokemon['base_experience'])\n",
    "        pokemonDF['height'].append(pokemon['height'])\n",
    "        pokemonDF['weight'].append(pokemon['weight'])\n",
    "        pokemonDF['abilities'].append(len(pokemon['abilities']))\n",
    "\n",
    "\n",
    "        for stat in pokemon['stats']:\n",
    "            pokemonDF[stat['stat']['name']].append(stat['base_stat'])\n",
    "\n",
    "    # Add moves to a dictionary for now. \n",
    "    # Validity of these moves and a move count for each pokemon will be checked later\n",
    "    for move in pokemon['moves']:\n",
    "        pokemonMovesDF['name'].append(pokemon['name'])\n",
    "        pokemonMovesDF['move'].append(move['move']['name'])\n",
    "        pokemonMovesDF['level_learned_at'].append(move['version_group_details'][0]['level_learned_at'])\n",
    "        \n",
    "# Create a dataframe from the moves gathered from the pokemon\n",
    "pokemonMovesDF = pd.DataFrame(pokemonMovesDF)\n",
    "# Purge the overall moves list of non-gen-1 moves\n",
    "pokemonMovesDF = pd.merge(pokemonMovesDF, movesDF, how='right')\n",
    "# Interesting story: struggle is a move used by pokemon that have run out of all other moves,\n",
    "# but is not itself a learnable move, thus the below is necessary\n",
    "pokemonMovesDF = pokemonMovesDF.dropna(subset='name')\n",
    "display(pokemonMovesDF)\n",
    "\n",
    "# Count the number of valid gen 1 moves learnable by each pokemon\n",
    "pokemonMoveCountsDF = pokemonMovesDF.groupby('name')['move'].count().reset_index()\n",
    "pokemonMoveCountsDF.columns = ['name', 'moves']\n",
    "\n",
    "# Create a dataframe of the pokemon stats\n",
    "pokemonDF = pd.DataFrame(pokemonDF)\n",
    "# Utilize a gen 1 types dataframe to get rid of any invalid types\n",
    "typesDF = pd.DataFrame(gen1Types)\n",
    "typesDF = typesDF[['name']]\n",
    "typesDF.columns = ['type']\n",
    "pokemonDF = pd.merge(pokemonDF, typesDF, how='right')\n",
    "\n",
    "# Finally, add the move counts of each pokemon\n",
    "pokemonDF = pd.merge(pokemonDF, pokemonMoveCountsDF)\n",
    "pokemonDF['stat-total'] = pokemonDF['hp'] + pokemonDF['attack'] + pokemonDF['defense'] + pokemonDF['special-attack'] + pokemonDF['special-defense'] + pokemonDF['speed'] \n",
    "pokemonDF"
   ]
  },
  {
   "cell_type": "markdown",
   "id": "5c363e88",
   "metadata": {},
   "source": [
    "**Keep in mind that a pokemon with two types will appear twice in this dataset and duplicates may need to be dropped for analyses not involving different typings.*"
   ]
  },
  {
   "cell_type": "code",
   "execution_count": null,
   "id": "f19816be",
   "metadata": {},
   "outputs": [],
   "source": [
    "typeAveragesDF = pokemonDF.groupby('type').agg({\n",
    "    'base_experience': 'mean',\n",
    "    'height': 'mean',\n",
    "    'weight': 'mean',\n",
    "    'abilities': 'mean',\n",
    "    'hp': 'mean',\n",
    "    'attack': 'mean',\n",
    "    'defense': 'mean',\n",
    "    'special-attack': 'mean',\n",
    "    'special-defense': 'mean',\n",
    "    'speed': 'mean',\n",
    "    'moves': 'mean',\n",
    "    'stat-total': 'mean',\n",
    "    'base_experience': 'mean',\n",
    "}).reset_index()\n",
    "\n",
    "typeAveragesDF"
   ]
  },
  {
   "cell_type": "markdown",
   "id": "3bce5f42",
   "metadata": {},
   "source": [
    "## Base experience of pokemon by type"
   ]
  },
  {
   "cell_type": "code",
   "execution_count": null,
   "id": "5c4f134b",
   "metadata": {},
   "outputs": [],
   "source": [
    "sns.barplot(x='type', y='base_experience', data=typeAveragesDF.sort_values(ascending=False, by='base_experience'))\n",
    "fig = plt.gcf()\n",
    "fig.set_size_inches(10, 5)"
   ]
  },
  {
   "cell_type": "code",
   "execution_count": null,
   "id": "e9ba078d",
   "metadata": {},
   "outputs": [],
   "source": [
    "sns.displot(data=pokemonDF[pokemonDF['type'].isin(['ice','bug'])], x='base_experience',  hue='type', kind='kde', common_norm=False)\n",
    "\n",
    "plt.title('Base Experience Distribution of Ice and Bug Type Gen 1 Pokemon')\n",
    "plt.xlabel('Base Experience')\n",
    "\n",
    "mean = typeAveragesDF[typeAveragesDF['type'] == 'bug']['base_experience'].astype(float).iloc[0]\n",
    "# std = typeAveragesDF[typeAveragesDF['type'] == 'bug']['std'].astype(float).iloc[0]\n",
    "plt.axvline(mean, color='blue', linestyle='dashed', linewidth=2, label='Mean')\n",
    "\n",
    "mean = typeAveragesDF[typeAveragesDF['type'] == 'ice']['base_experience'].astype(float).iloc[0]\n",
    "# std = typeAveragesDF[typeAveragesDF['type'] == 'ice']['std'].astype(float).iloc[0]\n",
    "plt.axvline(mean, color='orange', linestyle='dashed', linewidth=2, label='Mean')\n",
    "\n",
    "fig = plt.gcf()\n",
    "fig.set_size_inches(10, 5)\n",
    "\n",
    "display(stats.ttest_ind(pokemonDF[pokemonDF['type'] == 'ice']['base_experience'], pokemonDF[pokemonDF['type'] == 'bug']['base_experience']))"
   ]
  },
  {
   "cell_type": "code",
   "execution_count": null,
   "id": "3c18f8d3",
   "metadata": {},
   "outputs": [],
   "source": [
    "lowestTypeStatsDF = pokemonDF.groupby('type').agg({\n",
    "    'base_experience': 'min',\n",
    "    'height': 'min',\n",
    "    'weight': 'min',\n",
    "    'abilities': 'min',\n",
    "    'hp': 'min',\n",
    "    'attack': 'min',\n",
    "    'defense': 'min',\n",
    "    'special-attack': 'min',\n",
    "    'special-defense': 'min',\n",
    "    'speed': 'min',\n",
    "    'moves': 'min',\n",
    "    'stat-total': 'min',\n",
    "    'base_experience': 'min',\n",
    "}).reset_index()\n",
    "\n",
    "lowestTypeStatsDF.sort_values(by='base_experience')"
   ]
  },
  {
   "cell_type": "code",
   "execution_count": null,
   "id": "562d5823",
   "metadata": {},
   "outputs": [],
   "source": [
    "highestTypeStatsDF = pokemonDF.groupby('type').agg({\n",
    "    'base_experience': 'max',\n",
    "    'height': 'max',\n",
    "    'weight': 'max',\n",
    "    'abilities': 'max',\n",
    "    'hp': 'max',\n",
    "    'attack': 'max',\n",
    "    'defense': 'max',\n",
    "    'special-attack': 'max',\n",
    "    'special-defense': 'max',\n",
    "    'speed': 'max',\n",
    "    'moves': 'max',\n",
    "    'stat-total': 'max',\n",
    "    'base_experience': 'max',\n",
    "}).reset_index()\n",
    "\n",
    "highestTypeStatsDF.sort_values(by='base_experience', ascending=False)"
   ]
  },
  {
   "cell_type": "markdown",
   "id": "564d318a",
   "metadata": {},
   "source": [
    "## Stats of single-typed pokemon vs dual-typed pokemon"
   ]
  },
  {
   "cell_type": "code",
   "execution_count": null,
   "id": "43e19e67",
   "metadata": {},
   "outputs": [],
   "source": [
    "dualTypedDF = pokemonDF[pokemonDF['type-slot'] == 2]\n",
    "display(dualTypedDF)\n",
    "singleTypedDF = pokemonDF[~pokemonDF['name'].isin(dualTypedDF['name'])]\n",
    "singleTypedDF"
   ]
  },
  {
   "cell_type": "code",
   "execution_count": null,
   "id": "034be994",
   "metadata": {},
   "outputs": [],
   "source": [
    "dualTypedAveragesDF = dualTypedDF[['hp', 'attack', 'defense', 'special-attack', 'special-defense', 'speed']].mean().reset_index()\n",
    "dualTypedAveragesDF.columns = ['stat', 'average']\n",
    "dualTypedAveragesDF['typing'] = 'dual'\n",
    "display(dualTypedAveragesDF)\n",
    "\n",
    "singleTypedAveragesDF = singleTypedDF[['hp', 'attack', 'defense', 'special-attack', 'special-defense', 'speed']].mean().reset_index()\n",
    "singleTypedAveragesDF.columns = ['stat', 'average']\n",
    "singleTypedAveragesDF['typing'] = 'single'\n",
    "display(singleTypedAveragesDF)\n",
    "\n",
    "typedAveragesDF = pd.concat([dualTypedAveragesDF, singleTypedAveragesDF]).reset_index()\n",
    "\n",
    "sns.barplot(x='stat', y='average', hue='typing', data=typedAveragesDF)\n",
    "fig = plt.gcf()\n",
    "fig.set_size_inches(10, 5)"
   ]
  },
  {
   "cell_type": "code",
   "execution_count": null,
   "id": "39cbcf0a",
   "metadata": {},
   "outputs": [],
   "source": [
    "statDifferentialsTotal = 0\n",
    "for i in range(len(dualTypedAveragesDF['average'])):\n",
    "    statDifferentialsTotal += abs(dualTypedAveragesDF['average'][i] - singleTypedAveragesDF['average'][i])\n",
    "print(f'Total of individual stat average differentials: {statDifferentialsTotal}')\n",
    "\n",
    "dualTypedStatTotalAverage = dualTypedDF[['stat-total']].mean().reset_index()\n",
    "singleTypedStatTotalAverage = singleTypedDF[['stat-total']].mean().reset_index()\n",
    "statTotalDifferential = dualTypedStatTotalAverage.iloc[0,1] - singleTypedStatTotalAverage.iloc[0,1]\n",
    "print(f'Difference between average stat totals: {statTotalDifferential}')"
   ]
  },
  {
   "cell_type": "code",
   "execution_count": null,
   "id": "fdcc6174",
   "metadata": {},
   "outputs": [],
   "source": [
    "display(stats.ttest_ind(dualTypedDF['hp'], singleTypedDF['hp']))\n",
    "display(stats.ttest_ind(dualTypedDF['attack'], singleTypedDF['attack']))\n",
    "display(stats.ttest_ind(dualTypedDF['defense'], singleTypedDF['defense']))\n",
    "display(stats.ttest_ind(dualTypedDF['special-attack'], singleTypedDF['special-attack']))\n",
    "display(stats.ttest_ind(dualTypedDF['special-defense'], singleTypedDF['special-defense']))\n",
    "display(stats.ttest_ind(dualTypedDF['speed'], singleTypedDF['speed']))\n",
    "\n",
    "display(stats.ttest_ind(dualTypedDF['stat-total'], singleTypedDF['stat-total']))"
   ]
  },
  {
   "cell_type": "markdown",
   "id": "60a8f6ac",
   "metadata": {},
   "source": [
    "## Pokemon Speed Stat by Type\n",
    "Let's look at the Speed stat on the pokemon and see if there are any significant differences between the types."
   ]
  },
  {
   "cell_type": "code",
   "execution_count": null,
   "id": "dfa66ee4",
   "metadata": {},
   "outputs": [],
   "source": [
    "sns.barplot(x='type', y='speed', data=typeAveragesDF.sort_values(ascending=False, by='speed'))\n",
    "for index, value in enumerate(typeAveragesDF.sort_values(ascending=False, by='speed')['speed']): # Speed values on the top\n",
    "    plt.text(index, value, str(round(value, 2)), ha='center', va='bottom')\n",
    "fig = plt.gcf()\n",
    "fig.set_size_inches(10, 5)\n",
    "plt.show()\n",
    "\n",
    "# box plot of speed\n",
    "sns.boxplot(x='type', y='speed', data=pokemonDF)\n",
    "# order from highest to lowest speed avg\n",
    "order = typeAveragesDF.sort_values(ascending=False, by='speed')['type']\n",
    "plt.xticks(order.index, order)\n",
    "\n",
    "fig = plt.gcf()\n",
    "fig.set_size_inches(10, 5)\n",
    "plt.show()\n"
   ]
  },
  {
   "cell_type": "markdown",
   "id": "5de63a79",
   "metadata": {},
   "source": [
    "Now let's look at the speed stat over generations to see if there is stat inflation. We can look at correlation between at stat and generation to see if there is a  relationship.\n",
    "\n",
    "*(This requires pulling the full dataset of Pokemon. If used on only the gen 1 data, there will be invalid correlation)*"
   ]
  },
  {
   "cell_type": "code",
   "execution_count": null,
   "id": "1bee5297",
   "metadata": {},
   "outputs": [],
   "source": [
    "# Calculate the Pearson correlation coefficient\n",
    "correlation_coefficient, p_value = pearsonr(pokemonDF['generation'], pokemonDF['speed'])\n",
    "\n",
    "# Create a scatter plot with a regression line\n",
    "plt.figure(figsize=(10, 6))\n",
    "sns.regplot(x='generation', y='speed', data=pokemonDF, ci=None, scatter_kws={'alpha':0.5})\n",
    "plt.title('Speed vs. Generation for Pokémon')\n",
    "plt.xlabel('Generation')\n",
    "plt.ylabel('Speed')\n",
    "plt.show()\n",
    "\n",
    "print(f\"Pearson Correlation Coefficient: {correlation_coefficient}\")\n",
    "print(f\"P-Value: {p_value}\")\n"
   ]
  }
 ],
 "metadata": {
  "kernelspec": {
   "display_name": "Python 3 (ipykernel)",
   "language": "python",
   "name": "python3"
  },
  "language_info": {
   "codemirror_mode": {
    "name": "ipython",
    "version": 3
   },
   "file_extension": ".py",
   "mimetype": "text/x-python",
   "name": "python",
   "nbconvert_exporter": "python",
   "pygments_lexer": "ipython3",
   "version": "3.10.12"
  }
 },
 "nbformat": 4,
 "nbformat_minor": 5
}
